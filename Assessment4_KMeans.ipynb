{
 "cells": [
  {
   "cell_type": "markdown",
   "id": "35af1110-4c8e-4c5d-a889-28cc4145625a",
   "metadata": {},
   "source": [
    "## K Nearest Neighbor model"
   ]
  },
  {
   "cell_type": "code",
   "execution_count": 64,
   "id": "75dd16ee-855f-4a82-9d30-72c7b810d369",
   "metadata": {},
   "outputs": [],
   "source": [
    "import pandas as pd\n",
    "from sklearn.model_selection import train_test_split\n",
    "from sklearn.neighbors import KNeighborsClassifier\n",
    "from sklearn.metrics import accuracy_score, classification_report"
   ]
  },
  {
   "cell_type": "code",
   "execution_count": 66,
   "id": "8d420c73-9d63-4ad8-86ae-d4111e4f1632",
   "metadata": {},
   "outputs": [
    {
     "name": "stdout",
     "output_type": "stream",
     "text": [
      "<class 'pandas.core.frame.DataFrame'>\n",
      "RangeIndex: 20000 entries, 0 to 19999\n",
      "Data columns (total 8 columns):\n",
      " #   Column               Non-Null Count  Dtype  \n",
      "---  ------               --------------  -----  \n",
      " 0   Age                  20000 non-null  int64  \n",
      " 1   Income               20000 non-null  int64  \n",
      " 2   Experience           20000 non-null  int64  \n",
      " 3   LoanAmount           19999 non-null  float64\n",
      " 4   InterestRate         20000 non-null  float64\n",
      " 5   CreditHistoryLength  20000 non-null  int64  \n",
      " 6   CreditScore          19999 non-null  float64\n",
      " 7   LoanApprovalStatus   20000 non-null  object \n",
      "dtypes: float64(3), int64(4), object(1)\n",
      "memory usage: 1.2+ MB\n"
     ]
    },
    {
     "data": {
      "text/html": [
       "<div>\n",
       "<style scoped>\n",
       "    .dataframe tbody tr th:only-of-type {\n",
       "        vertical-align: middle;\n",
       "    }\n",
       "\n",
       "    .dataframe tbody tr th {\n",
       "        vertical-align: top;\n",
       "    }\n",
       "\n",
       "    .dataframe thead th {\n",
       "        text-align: right;\n",
       "    }\n",
       "</style>\n",
       "<table border=\"1\" class=\"dataframe\">\n",
       "  <thead>\n",
       "    <tr style=\"text-align: right;\">\n",
       "      <th></th>\n",
       "      <th>Age</th>\n",
       "      <th>Income</th>\n",
       "      <th>Experience</th>\n",
       "      <th>LoanAmount</th>\n",
       "      <th>InterestRate</th>\n",
       "      <th>CreditHistoryLength</th>\n",
       "      <th>CreditScore</th>\n",
       "      <th>LoanApprovalStatus</th>\n",
       "    </tr>\n",
       "  </thead>\n",
       "  <tbody>\n",
       "    <tr>\n",
       "      <th>0</th>\n",
       "      <td>24</td>\n",
       "      <td>80145</td>\n",
       "      <td>1</td>\n",
       "      <td>25000.0</td>\n",
       "      <td>9.91</td>\n",
       "      <td>2</td>\n",
       "      <td>636.0</td>\n",
       "      <td>Yes</td>\n",
       "    </tr>\n",
       "    <tr>\n",
       "      <th>1</th>\n",
       "      <td>22</td>\n",
       "      <td>80303</td>\n",
       "      <td>0</td>\n",
       "      <td>25000.0</td>\n",
       "      <td>13.06</td>\n",
       "      <td>3</td>\n",
       "      <td>554.0</td>\n",
       "      <td>Yes</td>\n",
       "    </tr>\n",
       "    <tr>\n",
       "      <th>2</th>\n",
       "      <td>22</td>\n",
       "      <td>241048</td>\n",
       "      <td>0</td>\n",
       "      <td>9000.0</td>\n",
       "      <td>6.17</td>\n",
       "      <td>4</td>\n",
       "      <td>587.0</td>\n",
       "      <td>No</td>\n",
       "    </tr>\n",
       "    <tr>\n",
       "      <th>3</th>\n",
       "      <td>144</td>\n",
       "      <td>241424</td>\n",
       "      <td>121</td>\n",
       "      <td>6000.0</td>\n",
       "      <td>11.86</td>\n",
       "      <td>2</td>\n",
       "      <td>807.0</td>\n",
       "      <td>No</td>\n",
       "    </tr>\n",
       "    <tr>\n",
       "      <th>4</th>\n",
       "      <td>25</td>\n",
       "      <td>241005</td>\n",
       "      <td>4</td>\n",
       "      <td>18000.0</td>\n",
       "      <td>16.32</td>\n",
       "      <td>3</td>\n",
       "      <td>708.0</td>\n",
       "      <td>No</td>\n",
       "    </tr>\n",
       "  </tbody>\n",
       "</table>\n",
       "</div>"
      ],
      "text/plain": [
       "   Age  Income  Experience  LoanAmount  InterestRate  CreditHistoryLength  \\\n",
       "0   24   80145           1     25000.0          9.91                    2   \n",
       "1   22   80303           0     25000.0         13.06                    3   \n",
       "2   22  241048           0      9000.0          6.17                    4   \n",
       "3  144  241424         121      6000.0         11.86                    2   \n",
       "4   25  241005           4     18000.0         16.32                    3   \n",
       "\n",
       "   CreditScore LoanApprovalStatus  \n",
       "0        636.0                Yes  \n",
       "1        554.0                Yes  \n",
       "2        587.0                 No  \n",
       "3        807.0                 No  \n",
       "4        708.0                 No  "
      ]
     },
     "execution_count": 66,
     "metadata": {},
     "output_type": "execute_result"
    }
   ],
   "source": [
    "df = pd.read_csv(\"Assessment4Data.csv\")\n",
    "df.info()\n",
    "df.head()"
   ]
  },
  {
   "cell_type": "code",
   "execution_count": 72,
   "id": "51b0ffab-3a52-4ff9-bba2-8446a736aab8",
   "metadata": {},
   "outputs": [],
   "source": [
    "df = df.dropna()\n",
    "df = df[(df[\"Age\"] > 17) & (df[\"Age\"] < 100)] "
   ]
  },
  {
   "cell_type": "code",
   "execution_count": 74,
   "id": "26f66a6c-f8d1-4164-8dca-8ab6dbf9bdfb",
   "metadata": {},
   "outputs": [],
   "source": [
    "X = df.loc[:, df.columns != \"LoanApprovalStatus\"].values\n",
    "y = df[\"LoanApprovalStatus\"].values"
   ]
  },
  {
   "cell_type": "code",
   "execution_count": 76,
   "id": "35fd0c25-e196-461a-a164-c80a58d53c0b",
   "metadata": {},
   "outputs": [],
   "source": [
    "X_train, X_test, y_train, y_test = train_test_split(X, y, test_size=0.2, random_state=250050)"
   ]
  },
  {
   "cell_type": "code",
   "execution_count": 78,
   "id": "2ae9e3f3-dfa6-409d-a5a4-7c2174c23510",
   "metadata": {},
   "outputs": [
    {
     "name": "stdout",
     "output_type": "stream",
     "text": [
      "Accuracy del modelo: 0.8165\n",
      "\n",
      "Classification Report:\n",
      "\n",
      "              precision    recall  f1-score   support\n",
      "\n",
      "          No       0.85      0.92      0.89      3105\n",
      "         Yes       0.63      0.45      0.52       895\n",
      "\n",
      "    accuracy                           0.82      4000\n",
      "   macro avg       0.74      0.68      0.70      4000\n",
      "weighted avg       0.80      0.82      0.80      4000\n",
      "\n"
     ]
    }
   ],
   "source": [
    "knn = KNeighborsClassifier(n_neighbors=5)\n",
    "knn.fit(X_train, y_train)\n",
    "y_pred = knn.predict(X_test)\n",
    "print(\"Accuracy del modelo:\", accuracy_score(y_test, y_pred))\n",
    "print(\"\\nClassification Report:\\n\")\n",
    "print(classification_report(y_test, y_pred))"
   ]
  },
  {
   "cell_type": "markdown",
   "id": "afd2da33-aa77-4116-b583-5cf9e70e8b0e",
   "metadata": {},
   "source": [
    "## SVM Model"
   ]
  },
  {
   "cell_type": "code",
   "execution_count": 80,
   "id": "921836d2-1afa-45a5-9618-00b14eed9380",
   "metadata": {},
   "outputs": [],
   "source": [
    "import pandas as pd\n",
    "from sklearn.model_selection import train_test_split\n",
    "from sklearn import svm\n",
    "from sklearn.metrics import accuracy_score, classification_report"
   ]
  },
  {
   "cell_type": "code",
   "execution_count": 82,
   "id": "13651d35-45a7-415f-8e00-29f8ed242349",
   "metadata": {},
   "outputs": [
    {
     "name": "stdout",
     "output_type": "stream",
     "text": [
      "<class 'pandas.core.frame.DataFrame'>\n",
      "Index: 19997 entries, 0 to 19999\n",
      "Data columns (total 8 columns):\n",
      " #   Column               Non-Null Count  Dtype  \n",
      "---  ------               --------------  -----  \n",
      " 0   Age                  19997 non-null  int64  \n",
      " 1   Income               19997 non-null  int64  \n",
      " 2   Experience           19997 non-null  int64  \n",
      " 3   LoanAmount           19997 non-null  float64\n",
      " 4   InterestRate         19997 non-null  float64\n",
      " 5   CreditHistoryLength  19997 non-null  int64  \n",
      " 6   CreditScore          19997 non-null  float64\n",
      " 7   LoanApprovalStatus   19997 non-null  object \n",
      "dtypes: float64(3), int64(4), object(1)\n",
      "memory usage: 1.4+ MB\n"
     ]
    }
   ],
   "source": [
    "df = pd.read_csv(\"Assessment4Data.csv\")\n",
    "df = df.dropna()\n",
    "df = df[(df[\"Age\"] > 17) & (df[\"Age\"] < 100)]\n",
    "df.info()"
   ]
  },
  {
   "cell_type": "code",
   "execution_count": 84,
   "id": "36114248-2156-48c8-800b-341cbfd0826a",
   "metadata": {},
   "outputs": [],
   "source": [
    "X = df.loc[:, df.columns != \"LoanApprovalStatus\"].values\n",
    "y = df[\"LoanApprovalStatus\"].values"
   ]
  },
  {
   "cell_type": "code",
   "execution_count": 86,
   "id": "36b4aef3-1072-4901-a91e-4f07a1345635",
   "metadata": {},
   "outputs": [],
   "source": [
    "X_train, X_test, y_train, y_test = train_test_split(X, y, test_size=0.2, random_state=250050)"
   ]
  },
  {
   "cell_type": "code",
   "execution_count": null,
   "id": "ff710989-c07b-40cc-995d-2209e5bb198b",
   "metadata": {},
   "outputs": [],
   "source": [
    "clf_linear = svm.SVC(kernel='linear', C=1)\n",
    "clf_linear.fit(X_train, y_train)\n",
    "\n",
    "print(\"Accuracy del modelo (SVM linear):\", accuracy_score(y_test, y_pred_linear))\n",
    "print(\"\\nClassification Report (SVM linear):\\n\")\n",
    "print(classification_report(y_test, y_pred_linear))"
   ]
  },
  {
   "cell_type": "code",
   "execution_count": null,
   "id": "13924cf2-ab1c-4719-8b0a-36854513d6dc",
   "metadata": {},
   "outputs": [],
   "source": []
  },
  {
   "cell_type": "markdown",
   "id": "32dec2df-e2dc-4edf-a9b3-1f54ecbf08d5",
   "metadata": {},
   "source": [
    "### Logistic Regression"
   ]
  },
  {
   "cell_type": "code",
   "execution_count": null,
   "id": "bac1c5a7-b89d-4732-9da8-1eb51c80962f",
   "metadata": {},
   "outputs": [],
   "source": [
    "import pandas as pd\n",
    "from sklearn.model_selection import train_test_split\n",
    "from sklearn.linear_model import LogisticRegression\n",
    "from sklearn import metrics"
   ]
  },
  {
   "cell_type": "code",
   "execution_count": null,
   "id": "30d4824d-343e-44b1-b334-ba5871b817a3",
   "metadata": {},
   "outputs": [],
   "source": [
    "df = pd.read_csv(\"Assessment4Data.csv\")\n",
    "df = df.dropna()\n",
    "df = df[(df[\"Age\"] > 17) & (df[\"Age\"] < 100)]"
   ]
  },
  {
   "cell_type": "code",
   "execution_count": null,
   "id": "e4166473-9449-4c8a-b876-7a684c26cd97",
   "metadata": {},
   "outputs": [],
   "source": [
    "X = df.loc[:, df.columns != \"LoanApprovalStatus\"].values\n",
    "y = df[\"LoanApprovalStatus\"].values"
   ]
  },
  {
   "cell_type": "code",
   "execution_count": null,
   "id": "b541c6a8-7a8e-4dc6-ae0d-02d213b568b4",
   "metadata": {},
   "outputs": [],
   "source": [
    "X_train, X_test, y_train, y_test = train_test_split(X, y, test_size=0.2, random_state=250050)"
   ]
  },
  {
   "cell_type": "code",
   "execution_count": null,
   "id": "4f509e2d-12b5-43ec-80c9-0bc68e345c51",
   "metadata": {},
   "outputs": [],
   "source": [
    "logit = LogisticRegression()\n",
    "logit.fit(X_train, y_train)\n",
    "y_pred = logit.predict(X_test)\n",
    "recall = metrics.recall_score(y_test, y_pred, pos_label='Yes')\n",
    "f1 = metrics.f1_score(y_test, y_pred, pos_label='Yes')\n",
    "\n",
    "print(\"Recall:\", recall)\n",
    "print(\"F1-score:\", f1)"
   ]
  },
  {
   "cell_type": "code",
   "execution_count": null,
   "id": "6f21ab40-698a-4c3a-8a1b-ea6b1fd680c0",
   "metadata": {},
   "outputs": [],
   "source": []
  }
 ],
 "metadata": {
  "kernelspec": {
   "display_name": "Python [conda env:base] *",
   "language": "python",
   "name": "conda-base-py"
  },
  "language_info": {
   "codemirror_mode": {
    "name": "ipython",
    "version": 3
   },
   "file_extension": ".py",
   "mimetype": "text/x-python",
   "name": "python",
   "nbconvert_exporter": "python",
   "pygments_lexer": "ipython3",
   "version": "3.12.7"
  }
 },
 "nbformat": 4,
 "nbformat_minor": 5
}
